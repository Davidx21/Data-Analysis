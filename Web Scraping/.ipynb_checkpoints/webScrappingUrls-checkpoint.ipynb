{
 "cells": [
  {
   "cell_type": "markdown",
   "id": "d5fdd88d",
   "metadata": {},
   "source": [
    "# Importar  Líbrerias"
   ]
  },
  {
   "cell_type": "code",
   "execution_count": 88,
   "id": "6ea35cad",
   "metadata": {},
   "outputs": [],
   "source": [
    "import requests\n",
    "from bs4 import BeautifulSoup\n",
    "import re\n",
    "import pandas as pd"
   ]
  },
  {
   "cell_type": "code",
   "execution_count": 110,
   "id": "17a6bf66",
   "metadata": {},
   "outputs": [],
   "source": [
    "urls = [\"https://www.intelec.co.cr/computo/laptops\",\"https://www.intelec.co.cr/computo/laptops?page=2\"]"
   ]
  },
  {
   "cell_type": "code",
   "execution_count": 112,
   "id": "32c8d612",
   "metadata": {},
   "outputs": [],
   "source": [
    "def web_scrapping(urls):\n",
    "    precios, codigos, marcas, productos = [], [] ,[], []\n",
    "    for x in urls:\n",
    "        URL = x\n",
    "        page = requests.get(URL)\n",
    "        soup = BeautifulSoup(page.content,\"html.parser\")\n",
    "        busqueda= soup.find_all('div', attrs={'class':'product-thumb transition'})\n",
    "        for i in busqueda:\n",
    "            precio = i.find('div', attrs={'class':'price'}).text[:50].strip()\n",
    "            producto = i.find('h4').text\n",
    "            codigo = i.find(\"span\" , attrs={\"class\":\"smp-extra model\"}).text[8:]\n",
    "            marca = i.find(\"span\" , attrs={\"class\":\"smp-extra brand\"}).text[7:]\n",
    "            productos.append(producto)\n",
    "            codigos.append(codigo)\n",
    "            marcas.append(marca)\n",
    "            precios.append(precio)\n",
    "        precios = list(map(lambda x : re.sub(\"[^0-9]\", \"\", x), precios))\n",
    "    return([productos,precios,codigos,marcas])"
   ]
  },
  {
   "cell_type": "code",
   "execution_count": 113,
   "id": "f768936d",
   "metadata": {},
   "outputs": [],
   "source": [
    "computadoras = web_scrapping(urls)"
   ]
  },
  {
   "cell_type": "code",
   "execution_count": 115,
   "id": "0c6cf60d",
   "metadata": {},
   "outputs": [
    {
     "data": {
      "text/plain": [
       "[]"
      ]
     },
     "execution_count": 115,
     "metadata": {},
     "output_type": "execute_result"
    }
   ],
   "source": [
    "df = pd.DataFrame({\"Producto\":productos,\"Precios\":precios,\"Marca\":marcas,\"Códigos\":codigos})\n",
    "df.head()"
   ]
  },
  {
   "cell_type": "code",
   "execution_count": null,
   "id": "b3c132b6",
   "metadata": {},
   "outputs": [],
   "source": []
  }
 ],
 "metadata": {
  "kernelspec": {
   "display_name": "Python 3",
   "language": "python",
   "name": "python3"
  },
  "language_info": {
   "codemirror_mode": {
    "name": "ipython",
    "version": 3
   },
   "file_extension": ".py",
   "mimetype": "text/x-python",
   "name": "python",
   "nbconvert_exporter": "python",
   "pygments_lexer": "ipython3",
   "version": "3.8.8"
  }
 },
 "nbformat": 4,
 "nbformat_minor": 5
}

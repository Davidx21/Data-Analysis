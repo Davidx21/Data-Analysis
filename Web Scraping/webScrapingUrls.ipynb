{
 "cells": [
  {
   "cell_type": "markdown",
   "id": "fb485cf3",
   "metadata": {},
   "source": [
    "# Importar  Librerías"
   ]
  },
  {
   "cell_type": "code",
   "execution_count": 88,
   "id": "8af375ec",
   "metadata": {},
   "outputs": [],
   "source": [
    "import requests\n",
    "from bs4 import BeautifulSoup\n",
    "import re\n",
    "import pandas as pd"
   ]
  },
  {
   "cell_type": "markdown",
   "id": "57ab9d9b",
   "metadata": {},
   "source": [
    "Poner en una lista las urls de los productos, se hace de esta manera porque son solo 2 urls."
   ]
  },
  {
   "cell_type": "code",
   "execution_count": 129,
   "id": "92646840",
   "metadata": {},
   "outputs": [],
   "source": [
    "urls = [\"https://www.intelec.co.cr/computo/laptops\",\"https://www.intelec.co.cr/computo/laptops?page=2\"]"
   ]
  },
  {
   "cell_type": "markdown",
   "id": "e59ed1a9",
   "metadata": {},
   "source": [
    "Función que recibe las urls para hacer web srapping y retorna un dataframe con toda la información"
   ]
  },
  {
   "cell_type": "code",
   "execution_count": 136,
   "id": "84e25fe2",
   "metadata": {},
   "outputs": [],
   "source": [
    "def web_scraping(urls):\n",
    "    precios, codigos, marcas, productos = [], [] ,[], []\n",
    "    for x in urls:\n",
    "        URL = x\n",
    "        page = requests.get(URL)\n",
    "        soup = BeautifulSoup(page.content,\"html.parser\")\n",
    "        busqueda= soup.find_all('div', attrs={'class':'product-thumb transition'})\n",
    "        for i in busqueda:\n",
    "            precio = i.find('div', attrs={'class':'price'}).text[:50].strip() #Elimino lo innecesario\n",
    "            producto = i.find('h4').text\n",
    "            codigo = i.find(\"span\" , attrs={\"class\":\"smp-extra model\"}).text[8:]\n",
    "            marca = i.find(\"span\" , attrs={\"class\":\"smp-extra brand\"}).text[7:]\n",
    "            productos.append(producto)\n",
    "            codigos.append(codigo)\n",
    "            marcas.append(marca)\n",
    "            precios.append(precio)\n",
    "        precios = list(map(lambda x : re.sub(\"[^0-9]\", \"\", x), precios)) #Solo se necesita valores númericos\n",
    "        df = pd.DataFrame({\"Producto\":productos,\"Precios\":precios,\"Marca\":marcas[3],\"Códigos\":codigos})\n",
    "    return(df)"
   ]
  },
  {
   "cell_type": "markdown",
   "id": "b17ffe15",
   "metadata": {},
   "source": [
    "Guardar resultado de la función en una variable."
   ]
  },
  {
   "cell_type": "code",
   "execution_count": 137,
   "id": "c171a687",
   "metadata": {},
   "outputs": [
    {
     "data": {
      "text/html": [
       "<div>\n",
       "<style scoped>\n",
       "    .dataframe tbody tr th:only-of-type {\n",
       "        vertical-align: middle;\n",
       "    }\n",
       "\n",
       "    .dataframe tbody tr th {\n",
       "        vertical-align: top;\n",
       "    }\n",
       "\n",
       "    .dataframe thead th {\n",
       "        text-align: right;\n",
       "    }\n",
       "</style>\n",
       "<table border=\"1\" class=\"dataframe\">\n",
       "  <thead>\n",
       "    <tr style=\"text-align: right;\">\n",
       "      <th></th>\n",
       "      <th>Producto</th>\n",
       "      <th>Precios</th>\n",
       "      <th>Marca</th>\n",
       "      <th>Códigos</th>\n",
       "    </tr>\n",
       "  </thead>\n",
       "  <tbody>\n",
       "    <tr>\n",
       "      <th>0</th>\n",
       "      <td>Acer Aspire 3 CEL-3350 - 4GB - 500GB - 14\" - W...</td>\n",
       "      <td>214000</td>\n",
       "      <td>ASUS</td>\n",
       "      <td>NX.GNSAL.015</td>\n",
       "    </tr>\n",
       "    <tr>\n",
       "      <th>1</th>\n",
       "      <td>Lenovo IdeaPad  14\" AMD A6-Series - 4GB - Rade...</td>\n",
       "      <td>215000</td>\n",
       "      <td>ASUS</td>\n",
       "      <td>81VS0001US</td>\n",
       "    </tr>\n",
       "    <tr>\n",
       "      <th>2</th>\n",
       "      <td>Lenovo IdeaPad 1 A6-9220E - 4GB - 64GB - 14\" -...</td>\n",
       "      <td>215000</td>\n",
       "      <td>ASUS</td>\n",
       "      <td>81VS009GUS</td>\n",
       "    </tr>\n",
       "    <tr>\n",
       "      <th>3</th>\n",
       "      <td>Asus VivoBook X540M CEL-N4000 - 4GB - 500GB - ...</td>\n",
       "      <td>217500</td>\n",
       "      <td>ASUS</td>\n",
       "      <td>90NB0IR1-M12330</td>\n",
       "    </tr>\n",
       "    <tr>\n",
       "      <th>4</th>\n",
       "      <td>Lenovo IdeaPad Slim A9-9420A - 4GB - 64GB - 14...</td>\n",
       "      <td>225000</td>\n",
       "      <td>ASUS</td>\n",
       "      <td>81VS000CUS</td>\n",
       "    </tr>\n",
       "    <tr>\n",
       "      <th>...</th>\n",
       "      <td>...</td>\n",
       "      <td>...</td>\n",
       "      <td>...</td>\n",
       "      <td>...</td>\n",
       "    </tr>\n",
       "    <tr>\n",
       "      <th>80</th>\n",
       "      <td>ASUS ROG  G512L Ci7-10750H - 1TB-SSD - 16GB - ...</td>\n",
       "      <td>1069000</td>\n",
       "      <td>ASUS</td>\n",
       "      <td>90NR0351-M01490</td>\n",
       "    </tr>\n",
       "    <tr>\n",
       "      <th>81</th>\n",
       "      <td>ASUS ROG  G712L Ci7-10750H - 1TB-SSD - 16GB - ...</td>\n",
       "      <td>1069000</td>\n",
       "      <td>ASUS</td>\n",
       "      <td>90NR03B1-M00740</td>\n",
       "    </tr>\n",
       "    <tr>\n",
       "      <th>82</th>\n",
       "      <td>Lenovo IdeaPad Yoga C930 Ci5-8250U - 8GB - 256...</td>\n",
       "      <td>1157100</td>\n",
       "      <td>ASUS</td>\n",
       "      <td>81C40036LM</td>\n",
       "    </tr>\n",
       "    <tr>\n",
       "      <th>83</th>\n",
       "      <td>Dell Latitude E5420 CI7-1165GH - 16GB - 512GB-...</td>\n",
       "      <td>1184900</td>\n",
       "      <td>ASUS</td>\n",
       "      <td>V5KH8</td>\n",
       "    </tr>\n",
       "    <tr>\n",
       "      <th>84</th>\n",
       "      <td>Dell Latitude E5520 Ci7-1165G7 - 16GB - 512GB ...</td>\n",
       "      <td>1197000</td>\n",
       "      <td>ASUS</td>\n",
       "      <td>YDVCD</td>\n",
       "    </tr>\n",
       "  </tbody>\n",
       "</table>\n",
       "<p>85 rows × 4 columns</p>\n",
       "</div>"
      ],
      "text/plain": [
       "                                             Producto  Precios Marca  \\\n",
       "0   Acer Aspire 3 CEL-3350 - 4GB - 500GB - 14\" - W...   214000  ASUS   \n",
       "1   Lenovo IdeaPad  14\" AMD A6-Series - 4GB - Rade...   215000  ASUS   \n",
       "2   Lenovo IdeaPad 1 A6-9220E - 4GB - 64GB - 14\" -...   215000  ASUS   \n",
       "3   Asus VivoBook X540M CEL-N4000 - 4GB - 500GB - ...   217500  ASUS   \n",
       "4   Lenovo IdeaPad Slim A9-9420A - 4GB - 64GB - 14...   225000  ASUS   \n",
       "..                                                ...      ...   ...   \n",
       "80  ASUS ROG  G512L Ci7-10750H - 1TB-SSD - 16GB - ...  1069000  ASUS   \n",
       "81  ASUS ROG  G712L Ci7-10750H - 1TB-SSD - 16GB - ...  1069000  ASUS   \n",
       "82  Lenovo IdeaPad Yoga C930 Ci5-8250U - 8GB - 256...  1157100  ASUS   \n",
       "83  Dell Latitude E5420 CI7-1165GH - 16GB - 512GB-...  1184900  ASUS   \n",
       "84  Dell Latitude E5520 Ci7-1165G7 - 16GB - 512GB ...  1197000  ASUS   \n",
       "\n",
       "            Códigos  \n",
       "0      NX.GNSAL.015  \n",
       "1        81VS0001US  \n",
       "2        81VS009GUS  \n",
       "3   90NB0IR1-M12330  \n",
       "4        81VS000CUS  \n",
       "..              ...  \n",
       "80  90NR0351-M01490  \n",
       "81  90NR03B1-M00740  \n",
       "82       81C40036LM  \n",
       "83            V5KH8  \n",
       "84            YDVCD  \n",
       "\n",
       "[85 rows x 4 columns]"
      ]
     },
     "execution_count": 137,
     "metadata": {},
     "output_type": "execute_result"
    }
   ],
   "source": [
    "computadoras = web_scraping(urls) #computadoras es un dataframe\n",
    "computadoras"
   ]
  },
  {
   "cell_type": "code",
   "execution_count": null,
   "id": "573d7d61",
   "metadata": {},
   "outputs": [],
   "source": []
  }
 ],
 "metadata": {
  "kernelspec": {
   "display_name": "Python 3",
   "language": "python",
   "name": "python3"
  },
  "language_info": {
   "codemirror_mode": {
    "name": "ipython",
    "version": 3
   },
   "file_extension": ".py",
   "mimetype": "text/x-python",
   "name": "python",
   "nbconvert_exporter": "python",
   "pygments_lexer": "ipython3",
   "version": "3.8.8"
  }
 },
 "nbformat": 4,
 "nbformat_minor": 5
}

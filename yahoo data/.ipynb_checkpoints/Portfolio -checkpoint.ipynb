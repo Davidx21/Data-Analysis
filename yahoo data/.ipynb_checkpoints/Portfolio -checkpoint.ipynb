{
 "cells": [
  {
   "cell_type": "markdown",
   "id": "bde3a4a5",
   "metadata": {},
   "source": [
    "# Import Libraries"
   ]
  },
  {
   "cell_type": "code",
   "execution_count": 8,
   "id": "fab2b7c1",
   "metadata": {},
   "outputs": [],
   "source": [
    "import pandas as pd\n",
    "import numpy as np\n",
    "import matplotlib.pyplot as plt\n",
    "import os"
   ]
  },
  {
   "cell_type": "markdown",
   "id": "6c9502e2",
   "metadata": {},
   "source": [
    "Leer archivos descargados"
   ]
  },
  {
   "cell_type": "code",
   "execution_count": 9,
   "id": "08d9549a",
   "metadata": {},
   "outputs": [],
   "source": [
    "files = [file for file in os.listdir(\"./historicalData\")] #lista con los archivos\n",
    "\n",
    "dataFrames = []\n",
    "\n",
    "for file in files:\n",
    "    df = pd.read_csv(\"./historicalData/\" + file)\n",
    "    allData = pd.concat([allData,df])"
   ]
  },
  {
   "cell_type": "code",
   "execution_count": 10,
   "id": "07a86bd7",
   "metadata": {},
   "outputs": [
    {
     "data": {
      "text/html": [
       "<div>\n",
       "<style scoped>\n",
       "    .dataframe tbody tr th:only-of-type {\n",
       "        vertical-align: middle;\n",
       "    }\n",
       "\n",
       "    .dataframe tbody tr th {\n",
       "        vertical-align: top;\n",
       "    }\n",
       "\n",
       "    .dataframe thead th {\n",
       "        text-align: right;\n",
       "    }\n",
       "</style>\n",
       "<table border=\"1\" class=\"dataframe\">\n",
       "  <thead>\n",
       "    <tr style=\"text-align: right;\">\n",
       "      <th></th>\n",
       "      <th>Date</th>\n",
       "      <th>Open</th>\n",
       "      <th>High</th>\n",
       "      <th>Low</th>\n",
       "      <th>Close</th>\n",
       "      <th>Adj Close</th>\n",
       "      <th>Volume</th>\n",
       "    </tr>\n",
       "  </thead>\n",
       "  <tbody>\n",
       "    <tr>\n",
       "      <th>0</th>\n",
       "      <td>2020-08-03</td>\n",
       "      <td>141.550003</td>\n",
       "      <td>143.429993</td>\n",
       "      <td>139.550003</td>\n",
       "      <td>142.360001</td>\n",
       "      <td>141.825607</td>\n",
       "      <td>2233800</td>\n",
       "    </tr>\n",
       "    <tr>\n",
       "      <th>1</th>\n",
       "      <td>2020-08-04</td>\n",
       "      <td>143.240005</td>\n",
       "      <td>146.500000</td>\n",
       "      <td>143.100006</td>\n",
       "      <td>146.320007</td>\n",
       "      <td>145.770752</td>\n",
       "      <td>2680300</td>\n",
       "    </tr>\n",
       "    <tr>\n",
       "      <th>2</th>\n",
       "      <td>2020-08-05</td>\n",
       "      <td>145.820007</td>\n",
       "      <td>146.339996</td>\n",
       "      <td>143.259995</td>\n",
       "      <td>146.179993</td>\n",
       "      <td>145.631271</td>\n",
       "      <td>1936900</td>\n",
       "    </tr>\n",
       "    <tr>\n",
       "      <th>3</th>\n",
       "      <td>2020-08-06</td>\n",
       "      <td>146.330002</td>\n",
       "      <td>147.360001</td>\n",
       "      <td>144.500000</td>\n",
       "      <td>146.949997</td>\n",
       "      <td>146.398376</td>\n",
       "      <td>1671700</td>\n",
       "    </tr>\n",
       "    <tr>\n",
       "      <th>4</th>\n",
       "      <td>2020-08-07</td>\n",
       "      <td>146.429993</td>\n",
       "      <td>146.839996</td>\n",
       "      <td>142.320007</td>\n",
       "      <td>143.990005</td>\n",
       "      <td>143.449478</td>\n",
       "      <td>1514800</td>\n",
       "    </tr>\n",
       "  </tbody>\n",
       "</table>\n",
       "</div>"
      ],
      "text/plain": [
       "         Date        Open        High         Low       Close   Adj Close  \\\n",
       "0  2020-08-03  141.550003  143.429993  139.550003  142.360001  141.825607   \n",
       "1  2020-08-04  143.240005  146.500000  143.100006  146.320007  145.770752   \n",
       "2  2020-08-05  145.820007  146.339996  143.259995  146.179993  145.631271   \n",
       "3  2020-08-06  146.330002  147.360001  144.500000  146.949997  146.398376   \n",
       "4  2020-08-07  146.429993  146.839996  142.320007  143.990005  143.449478   \n",
       "\n",
       "    Volume  \n",
       "0  2233800  \n",
       "1  2680300  \n",
       "2  1936900  \n",
       "3  1671700  \n",
       "4  1514800  "
      ]
     },
     "execution_count": 10,
     "metadata": {},
     "output_type": "execute_result"
    }
   ],
   "source": [
    "allData.head()"
   ]
  },
  {
   "cell_type": "code",
   "execution_count": null,
   "id": "4d7efafc",
   "metadata": {},
   "outputs": [],
   "source": []
  }
 ],
 "metadata": {
  "kernelspec": {
   "display_name": "Python 3",
   "language": "python",
   "name": "python3"
  },
  "language_info": {
   "codemirror_mode": {
    "name": "ipython",
    "version": 3
   },
   "file_extension": ".py",
   "mimetype": "text/x-python",
   "name": "python",
   "nbconvert_exporter": "python",
   "pygments_lexer": "ipython3",
   "version": "3.8.8"
  }
 },
 "nbformat": 4,
 "nbformat_minor": 5
}
